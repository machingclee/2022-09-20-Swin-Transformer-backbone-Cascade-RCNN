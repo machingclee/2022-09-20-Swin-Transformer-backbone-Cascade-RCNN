{
  "cells": [
    {
      "cell_type": "code",
      "execution_count": 1,
      "id": "0aa5339d-f806-47a9-8e28-3e693f68c021",
      "metadata": {},
      "outputs": [],
      "source": [
        "import torch\n",
        "import numpy as np"
      ]
    },
    {
      "cell_type": "code",
      "execution_count": 15,
      "id": "67be6a11-c1de-4227-beb1-4c28274f01b8",
      "metadata": {},
      "outputs": [],
      "source": [
        "a = torch.as_tensor([1,2,3])\n",
        "b = torch.as_tensor([3,2,1])"
      ]
    },
    {
      "cell_type": "code",
      "execution_count": 16,
      "id": "1dcf16a3-c732-4def-85dd-8a3f79ba23f7",
      "metadata": {},
      "outputs": [
        {
          "name": "stderr",
          "output_type": "stream",
          "text": [
            "C:\\Users\\user\\anaconda3\\envs\\dl\\lib\\site-packages\\torch\\functional.py:568: UserWarning: torch.meshgrid: in an upcoming release, it will be required to pass the indexing argument. (Triggered internally at  C:\\cb\\pytorch_1000000000000\\work\\aten\\src\\ATen\\native\\TensorShape.cpp:2228.)\n",
            "  return _VF.meshgrid(tensors, **kwargs)  # type: ignore[attr-defined]\n"
          ]
        }
      ],
      "source": [
        "A, B = torch.meshgrid(a, b)"
      ]
    },
    {
      "cell_type": "code",
      "execution_count": 17,
      "id": "fb076247-a2d5-4141-af82-a44e2f24cabd",
      "metadata": {},
      "outputs": [
        {
          "data": {
            "text/plain": [
              "tensor([[1, 1, 1],\n",
              "        [2, 2, 2],\n",
              "        [3, 3, 3]])"
            ]
          },
          "execution_count": 17,
          "metadata": {},
          "output_type": "execute_result"
        }
      ],
      "source": [
        "A"
      ]
    },
    {
      "cell_type": "code",
      "execution_count": 18,
      "id": "09094a20-e029-472b-a181-019eea252ede",
      "metadata": {},
      "outputs": [
        {
          "data": {
            "text/plain": [
              "tensor([[3, 2, 1],\n",
              "        [3, 2, 1],\n",
              "        [3, 2, 1]])"
            ]
          },
          "execution_count": 18,
          "metadata": {},
          "output_type": "execute_result"
        }
      ],
      "source": [
        "B"
      ]
    },
    {
      "cell_type": "code",
      "execution_count": 24,
      "id": "7275f79c-f1f0-48f5-a9c6-e3155f3138ea",
      "metadata": {},
      "outputs": [],
      "source": [
        "C = torch.cat([A[...,None], B[...,None]], dim=-1)"
      ]
    },
    {
      "cell_type": "code",
      "execution_count": 25,
      "id": "bc7b8631-a4dd-4bff-950b-98b251bcf977",
      "metadata": {},
      "outputs": [
        {
          "data": {
            "text/plain": [
              "tensor([[1, 3],\n",
              "        [1, 2],\n",
              "        [1, 1],\n",
              "        [2, 3],\n",
              "        [2, 2],\n",
              "        [2, 1],\n",
              "        [3, 3],\n",
              "        [3, 2],\n",
              "        [3, 1]])"
            ]
          },
          "execution_count": 25,
          "metadata": {},
          "output_type": "execute_result"
        }
      ],
      "source": [
        "C.reshape(-1, 2)"
      ]
    },
    {
      "cell_type": "code",
      "execution_count": 29,
      "id": "c34d905a-e627-4dd0-8880-b43a100aed10",
      "metadata": {},
      "outputs": [
        {
          "data": {
            "text/plain": [
              "array([ True])"
            ]
          },
          "execution_count": 29,
          "metadata": {},
          "output_type": "execute_result"
        }
      ],
      "source": [
        "np.array([True])*np.array([True])"
      ]
    },
    {
      "cell_type": "code",
      "execution_count": 5,
      "id": "68410605-6896-4486-ace7-ac121f476536",
      "metadata": {},
      "outputs": [],
      "source": [
        "label = torch.as_tensor([1,0,1,1,0,0,0,0,1,0,0,1,1,1])"
      ]
    },
    {
      "cell_type": "code",
      "execution_count": 7,
      "id": "f138f007-5ba1-4c05-ab7d-503fd9b6bfea",
      "metadata": {},
      "outputs": [
        {
          "data": {
            "text/plain": [
              "tensor([ 0,  2,  3,  8, 11, 12, 13])"
            ]
          },
          "execution_count": 7,
          "metadata": {},
          "output_type": "execute_result"
        }
      ],
      "source": [
        "torch.where(label == 1)[0]"
      ]
    },
    {
      "cell_type": "code",
      "execution_count": 8,
      "id": "499156eb-39f8-459b-aaee-f5386b76411a",
      "metadata": {},
      "outputs": [
        {
          "ename": "AttributeError",
          "evalue": "module 'torch.random' has no attribute 'choice'",
          "output_type": "error",
          "traceback": [
            "\u001b[1;31m---------------------------------------------------------------------------\u001b[0m",
            "\u001b[1;31mAttributeError\u001b[0m                            Traceback (most recent call last)",
            "Input \u001b[1;32mIn [8]\u001b[0m, in \u001b[0;36m<cell line: 1>\u001b[1;34m()\u001b[0m\n\u001b[1;32m----> 1\u001b[0m \u001b[43mtorch\u001b[49m\u001b[38;5;241;43m.\u001b[39;49m\u001b[43mrandom\u001b[49m\u001b[38;5;241;43m.\u001b[39;49m\u001b[43mchoice\u001b[49m([\u001b[38;5;241m1\u001b[39m,\u001b[38;5;241m2\u001b[39m,\u001b[38;5;241m4\u001b[39m,\u001b[38;5;241m6\u001b[39m], size\u001b[38;5;241m=\u001b[39m(\u001b[38;5;241m2\u001b[39m), replace\u001b[38;5;241m=\u001b[39m\u001b[38;5;28;01mFalse\u001b[39;00m)\n",
            "\u001b[1;31mAttributeError\u001b[0m: module 'torch.random' has no attribute 'choice'"
          ]
        }
      ],
      "source": [
        "torch.random.choice([1,2,4,6], size=(2), replace=False)"
      ]
    },
    {
      "cell_type": "code",
      "execution_count": 9,
      "id": "b0fb6f85-d279-42f5-a2da-9e3b84e7f940",
      "metadata": {},
      "outputs": [
        {
          "data": {
            "text/plain": [
              "tensor([0, 2, 3, 4, 1])"
            ]
          },
          "execution_count": 9,
          "metadata": {},
          "output_type": "execute_result"
        }
      ],
      "source": [
        "torch.randperm(5)"
      ]
    },
    {
      "cell_type": "code",
      "execution_count": null,
      "id": "35c8c99c-6268-4627-bf9d-e2b5dbd26d34",
      "metadata": {},
      "outputs": [],
      "source": [
        "torch.as_tensor([True, False])"
      ]
    }
  ],
  "metadata": {
    "kernelspec": {
      "display_name": "dl",
      "language": "python",
      "name": "dl"
    },
    "language_info": {
      "codemirror_mode": {
        "name": "ipython",
        "version": 3
      },
      "file_extension": ".py",
      "mimetype": "text/x-python",
      "name": "python",
      "nbconvert_exporter": "python",
      "pygments_lexer": "ipython3",
      "version": "3.8.13"
    }
  },
  "nbformat": 4,
  "nbformat_minor": 5
}